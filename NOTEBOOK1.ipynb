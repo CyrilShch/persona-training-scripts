{
 "metadata": {
  "language_info": {
   "codemirror_mode": {
    "name": "ipython",
    "version": 3
   },
   "file_extension": ".py",
   "mimetype": "text/x-python",
   "name": "python",
   "nbconvert_exporter": "python",
   "pygments_lexer": "ipython3",
   "version": "3.7.6-final"
  },
  "orig_nbformat": 2,
  "kernelspec": {
   "name": "python3",
   "display_name": "Python 3",
   "language": "python"
  }
 },
 "nbformat": 4,
 "nbformat_minor": 2,
 "cells": [
  {
   "cell_type": "code",
   "execution_count": 5,
   "metadata": {},
   "outputs": [
    {
     "output_type": "stream",
     "name": "stdout",
     "text": [
      "Fiets.nl - Race en MTB website\n#######\nNatrans Elektrofiets Accu Service\n#######\nJef Abels Bikes Fietsspeciaalzaak\n#######\nBravo Fiets\n#######\nWij hebben altijd de fiets die jij zoekt. - Fietsenwinkel.nl\n#######\nFiets kopen? | Beste prijs-kwaliteit fietsen | Decathlon.nl\n#######\nAlle Fietsen - Laagste Prijsgarantie | Fietsenconcurrent ...\n#######\nFiets kopen? Groot assortiment merk fietsen! | Mantel NL\n#######\nNieuwe fiets kopen? | Meer dan 8000 fietsen op voorraad! | 12GO ...\n#######\nFiets kopen? Alle Fietsen online | bol.com\n#######\nFietsvoordeelshop.nl - Het grootste assortiment fietsen\n#######\n"
     ]
    }
   ],
   "source": [
    "#https://www.journaldev.com/44755/scrape-google-search-using-python-beautifulsoup\n",
    "import requests\n",
    "from bs4 import BeautifulSoup\n",
    "import random\n",
    " \n",
    "text = 'fiets'\n",
    "url = 'https://google.nl/search?q=' + text\n",
    "A = (\"Mozilla/5.0 (Windows NT 6.1) AppleWebKit/537.36 (KHTML, like Gecko) Chrome/41.0.2228.0 Safari/537.36\",\n",
    "       \"Mozilla/5.0 (Macintosh; Intel Mac OS X 10_10_1) AppleWebKit/537.36 (KHTML, like Gecko) Chrome/41.0.2227.1 Safari/537.36\",\n",
    "       \"Mozilla/5.0 (Windows NT 6.1; WOW64) AppleWebKit/537.36 (KHTML, like Gecko) Chrome/41.0.2227.0 Safari/537.36\",\n",
    "       )\n",
    " \n",
    "Agent = A[random.randrange(len(A))]\n",
    " \n",
    "headers = {'user-agent': Agent}\n",
    "r = requests.get(url, headers=headers)\n",
    " \n",
    "soup = BeautifulSoup(r.text, 'lxml')\n",
    "for info in soup.find_all('h3'):\n",
    "    print(info.text)\n",
    "    print('#######')"
   ]
  },
  {
   "cell_type": "code",
   "execution_count": 11,
   "metadata": {},
   "outputs": [
    {
     "output_type": "execute_result",
     "data": {
      "text/plain": [
       "[]"
      ]
     },
     "metadata": {},
     "execution_count": 11
    }
   ],
   "source": [
    "import re\n",
    "soup.body.findAll(text=re.compile('^ads$'))"
   ]
  },
  {
   "cell_type": "code",
   "execution_count": null,
   "metadata": {},
   "outputs": [],
   "source": [
    "## "
   ]
  },
  {
   "source": [
    "## Trying selenium"
   ],
   "cell_type": "markdown",
   "metadata": {}
  },
  {
   "cell_type": "code",
   "execution_count": 53,
   "metadata": {},
   "outputs": [],
   "source": [
    "from selenium import webdriver\n",
    "from selenium.webdriver.chrome.options import Options"
   ]
  },
  {
   "cell_type": "code",
   "execution_count": 54,
   "metadata": {},
   "outputs": [],
   "source": [
    "chrome_options = Options()\n",
    "#chrome_options.add_argument(\"--incognito\")\n",
    "chrome_options.add_argument(\"--window-size=1920x1080\")"
   ]
  },
  {
   "cell_type": "code",
   "execution_count": 55,
   "metadata": {},
   "outputs": [],
   "source": [
    "driver = webdriver.Chrome(chrome_options=chrome_options, #defined above\n",
    "    executable_path='/Users/pedrohserrano/chromedriver')"
   ]
  },
  {
   "cell_type": "code",
   "execution_count": 56,
   "metadata": {},
   "outputs": [
    {
     "output_type": "execute_result",
     "data": {
      "text/plain": [
       "<selenium.webdriver.chrome.webdriver.WebDriver (session=\"596e8187a4af9772a24a93fed0539760\")>"
      ]
     },
     "metadata": {},
     "execution_count": 56
    }
   ],
   "source": [
    "driver"
   ]
  },
  {
   "cell_type": "code",
   "execution_count": 57,
   "metadata": {},
   "outputs": [
    {
     "output_type": "stream",
     "name": "stdout",
     "text": [
      "https://nl.ign.com/hyrule-warriors-age-of-calamity/127081/review/hyrule-warriors-age-of-calamity-review-simpel-genot\n",
      "https://www.funda.nl/\n",
      "https://www.google.nl/search?q=fiets\n",
      "['CDwindow-9FEF59ADC07165D27F1827AE77ED11EA', 'CDwindow-3A5F1368140BA99177B3D6BFDA9949F0', 'CDwindow-D4402FD1D3499CF3BC38C3CDCC9598BA']\n"
     ]
    }
   ],
   "source": [
    "import time\n",
    "driver.get(\"https://nl.ign.com/hyrule-warriors-age-of-calamity/127081/review/hyrule-warriors-age-of-calamity-review-simpel-genot\")\n",
    "driver.implicitly_wait(4)\n",
    "print(driver.current_url)\n",
    "driver.execute_script('window.open(\"https://www.funda.nl/\",\"new window\")')\n",
    "driver.implicitly_wait(4)\n",
    "driver.switch_to_window(driver.window_handles[1])\n",
    "print(driver.current_url)\n",
    "driver.execute_script('window.open(\"https://google.nl/search?q=fiets\",\"window 2\")')\n",
    "driver.implicitly_wait(4)\n",
    "driver.switch_to_window(driver.window_handles[2])\n",
    "print(driver.current_url)\n",
    "driver.implicitly_wait(4)\n",
    "print(driver.window_handles)"
   ]
  },
  {
   "cell_type": "code",
   "execution_count": 44,
   "metadata": {},
   "outputs": [
    {
     "output_type": "execute_result",
     "data": {
      "text/plain": [
       "'CDwindow-D40F9DE8532889112F88283A198B109D'"
      ]
     },
     "metadata": {},
     "execution_count": 44
    }
   ],
   "source": [
    "driver.window_handles[1]"
   ]
  },
  {
   "cell_type": "code",
   "execution_count": 18,
   "metadata": {},
   "outputs": [
    {
     "output_type": "execute_result",
     "data": {
      "text/plain": [
       "'https://nl.ign.com/hyrule-warriors-age-of-calamity/127081/review/hyrule-warriors-age-of-calamity-review-simpel-genot'"
      ]
     },
     "metadata": {},
     "execution_count": 18
    }
   ],
   "source": [
    "driver.current_url"
   ]
  },
  {
   "cell_type": "code",
   "execution_count": 24,
   "metadata": {},
   "outputs": [
    {
     "output_type": "stream",
     "name": "stdout",
     "text": [
      "Hyrule Warriors Age of Calamity Review - Simpel genot CDwindow-3A56B6B3F7B3CB24719F6D61A7EA2721\n"
     ]
    }
   ],
   "source": [
    "# buttons\n",
    "#driver.back() \n",
    "#driver.forward()\n",
    "#driver.refresh()\n",
    "#driver.switch_to.new_window('tab')\n",
    "#driver.switch_to.new_window('window')\n",
    "#driver.close()\n",
    "#driver.switch_to.window(original_window)\n",
    "print(driver.title,\n",
    "    driver.current_window_handle)"
   ]
  },
  {
   "cell_type": "code",
   "execution_count": 34,
   "metadata": {},
   "outputs": [
    {
     "output_type": "execute_result",
     "data": {
      "text/plain": [
       "[]"
      ]
     },
     "metadata": {},
     "execution_count": 34
    }
   ],
   "source": [
    "elements = driver.find_elements_by_css_selector(\".r a\")\n",
    "elements"
   ]
  },
  {
   "cell_type": "code",
   "execution_count": null,
   "metadata": {},
   "outputs": [],
   "source": []
  },
  {
   "cell_type": "code",
   "execution_count": null,
   "metadata": {},
   "outputs": [],
   "source": [
    "\n",
    "# switch to selected iframe\n",
    "driver.switch_to.frame(iframe)"
   ]
  },
  {
   "cell_type": "code",
   "execution_count": null,
   "metadata": {},
   "outputs": [],
   "source": []
  },
  {
   "cell_type": "code",
   "execution_count": null,
   "metadata": {},
   "outputs": [],
   "source": []
  }
 ]
}