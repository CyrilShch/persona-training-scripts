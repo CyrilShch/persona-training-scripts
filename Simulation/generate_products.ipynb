{
 "cells": [
  {
   "cell_type": "markdown",
   "id": "7a6c94cc-61e2-45a3-a58a-160b72914bbe",
   "metadata": {},
   "source": [
    "## Generate Products for Price Analysis"
   ]
  },
  {
   "cell_type": "code",
   "execution_count": 1,
   "id": "82273162-f9ed-4ca8-804c-6eba2806dd74",
   "metadata": {},
   "outputs": [],
   "source": [
    "import pandas as pd"
   ]
  },
  {
   "cell_type": "code",
   "execution_count": 2,
   "id": "8225b478-5638-47b8-ad08-967ab1f5aaf1",
   "metadata": {},
   "outputs": [],
   "source": [
    "products = pd.read_excel('products.xlsx')"
   ]
  },
  {
   "cell_type": "code",
   "execution_count": 3,
   "id": "3b3f8247-d647-4709-b8b1-0e8ae3b29aac",
   "metadata": {},
   "outputs": [],
   "source": [
    "# for each items, ets assume we have 3 different products\n",
    "products['product1'] = ''\n",
    "products['product2'] = ''\n",
    "products['product3'] = ''\n",
    "\n",
    "products = pd.melt(products, id_vars=['website','item'],\n",
    "                   value_vars=['product1', 'product2','product3'])\\\n",
    "            .rename(columns={'value':'seller','variable':'product'})"
   ]
  },
  {
   "cell_type": "code",
   "execution_count": 4,
   "id": "e5701ace-0a43-4670-8c53-3066d47a9cae",
   "metadata": {},
   "outputs": [],
   "source": [
    "#add sellers\n",
    "import random\n",
    "sellers = ['seller1','seller2','seller3']\n",
    "\n",
    "for i, row in products.iterrows():\n",
    "    row['seller'] = random.choices(sellers, weights=(50, 30, 20), k=1)[0]"
   ]
  },
  {
   "cell_type": "code",
   "execution_count": 5,
   "id": "403106aa-5cd0-43c2-93ba-08a195a7ee40",
   "metadata": {},
   "outputs": [],
   "source": [
    "# copy the table 30 times (days)\n",
    "products['date'] = ''\n",
    "dates = pd.date_range(start='06/1/2021', end='07/1/2021') #month/day/year\n",
    "products_table = pd.DataFrame()\n",
    "for i in dates:\n",
    "    df = products.copy()\n",
    "    df['date'] = i\n",
    "    products_table = products_table.append(df)"
   ]
  },
  {
   "cell_type": "code",
   "execution_count": 6,
   "id": "e8ea9337-de87-40f1-a646-721a01caca89",
   "metadata": {},
   "outputs": [],
   "source": [
    "# create and append two identical tabes for mornings and afternoons\n",
    "products_table['morning'] = ''\n",
    "products_table['afternoon'] = ''\n",
    "\n",
    "products_table = pd.melt(products_table, id_vars=['website','item','product','date'],\n",
    "                         value_vars=['morning', 'afternoon'])\\\n",
    "            .rename(columns={'variable':'time','value':'price'})"
   ]
  },
  {
   "cell_type": "code",
   "execution_count": 7,
   "id": "bcd9feb4-6290-4666-aea8-3281f8d422ae",
   "metadata": {},
   "outputs": [
    {
     "data": {
      "text/plain": [
       "array(['Coolblue', 'Mediamarkt', 'AH', 'Kruidvat', 'Bonprix', 'Lidl'],\n",
       "      dtype=object)"
      ]
     },
     "execution_count": 7,
     "metadata": {},
     "output_type": "execute_result"
    }
   ],
   "source": [
    "products_table.website.unique()"
   ]
  },
  {
   "cell_type": "code",
   "execution_count": 8,
   "id": "c5bc93df-9375-40df-9b99-9c79d9ef9f47",
   "metadata": {},
   "outputs": [],
   "source": [
    "# adding a random price based on the store\n",
    "import numpy as np\n",
    "vector = []\n",
    "for w in products_table['website']:\n",
    "    if (w == 'Coolblue') or (w == 'Mediamarkt'):\n",
    "        vector.append(round(abs(np.random.normal(35, 15, 1)[0]),2)) #Coolblue Mediamarkt\n",
    "    elif (w == 'AH') or (w == 'Lidl'):\n",
    "        vector.append(round(abs(np.random.normal(10, 5, 1)[0]),2)) #AH Lidl\n",
    "    elif (w == 'Bonprix') or (w == 'Kruidvat'):\n",
    "        vector.append(round(abs(np.random.uniform(0,20,1)[0]),2)) #Bonprix Kruidvat\n",
    "    else:\n",
    "        vector.append(0)\n",
    "\n",
    "products_table['price'] = vector"
   ]
  },
  {
   "cell_type": "code",
   "execution_count": 9,
   "id": "d8caaab1-9067-4988-8606-7156c163a848",
   "metadata": {
    "jupyter": {
     "source_hidden": true
    },
    "tags": []
   },
   "outputs": [
    {
     "data": {
      "text/html": [
       "<div>\n",
       "<style scoped>\n",
       "    .dataframe tbody tr th:only-of-type {\n",
       "        vertical-align: middle;\n",
       "    }\n",
       "\n",
       "    .dataframe tbody tr th {\n",
       "        vertical-align: top;\n",
       "    }\n",
       "\n",
       "    .dataframe thead th {\n",
       "        text-align: right;\n",
       "    }\n",
       "</style>\n",
       "<table border=\"1\" class=\"dataframe\">\n",
       "  <thead>\n",
       "    <tr style=\"text-align: right;\">\n",
       "      <th></th>\n",
       "      <th>website</th>\n",
       "      <th>item</th>\n",
       "      <th>product</th>\n",
       "      <th>date</th>\n",
       "      <th>time</th>\n",
       "      <th>price</th>\n",
       "    </tr>\n",
       "  </thead>\n",
       "  <tbody>\n",
       "    <tr>\n",
       "      <th>0</th>\n",
       "      <td>Coolblue</td>\n",
       "      <td>laptop</td>\n",
       "      <td>product1</td>\n",
       "      <td>2021-06-01</td>\n",
       "      <td>morning</td>\n",
       "      <td>29.44</td>\n",
       "    </tr>\n",
       "    <tr>\n",
       "      <th>1</th>\n",
       "      <td>Coolblue</td>\n",
       "      <td>steelstofzuiger</td>\n",
       "      <td>product1</td>\n",
       "      <td>2021-06-01</td>\n",
       "      <td>morning</td>\n",
       "      <td>16.93</td>\n",
       "    </tr>\n",
       "    <tr>\n",
       "      <th>2</th>\n",
       "      <td>Coolblue</td>\n",
       "      <td>vaatwasser</td>\n",
       "      <td>product1</td>\n",
       "      <td>2021-06-01</td>\n",
       "      <td>morning</td>\n",
       "      <td>29.43</td>\n",
       "    </tr>\n",
       "    <tr>\n",
       "      <th>3</th>\n",
       "      <td>Coolblue</td>\n",
       "      <td>printer</td>\n",
       "      <td>product1</td>\n",
       "      <td>2021-06-01</td>\n",
       "      <td>morning</td>\n",
       "      <td>35.84</td>\n",
       "    </tr>\n",
       "    <tr>\n",
       "      <th>4</th>\n",
       "      <td>Coolblue</td>\n",
       "      <td>loopband</td>\n",
       "      <td>product1</td>\n",
       "      <td>2021-06-01</td>\n",
       "      <td>morning</td>\n",
       "      <td>37.06</td>\n",
       "    </tr>\n",
       "    <tr>\n",
       "      <th>5</th>\n",
       "      <td>Coolblue</td>\n",
       "      <td>tondeuse</td>\n",
       "      <td>product1</td>\n",
       "      <td>2021-06-01</td>\n",
       "      <td>morning</td>\n",
       "      <td>35.86</td>\n",
       "    </tr>\n",
       "    <tr>\n",
       "      <th>6</th>\n",
       "      <td>Coolblue</td>\n",
       "      <td>koelkast</td>\n",
       "      <td>product1</td>\n",
       "      <td>2021-06-01</td>\n",
       "      <td>morning</td>\n",
       "      <td>45.41</td>\n",
       "    </tr>\n",
       "    <tr>\n",
       "      <th>7</th>\n",
       "      <td>Coolblue</td>\n",
       "      <td>grasmaaier</td>\n",
       "      <td>product1</td>\n",
       "      <td>2021-06-01</td>\n",
       "      <td>morning</td>\n",
       "      <td>33.09</td>\n",
       "    </tr>\n",
       "    <tr>\n",
       "      <th>8</th>\n",
       "      <td>Coolblue</td>\n",
       "      <td>magnetron</td>\n",
       "      <td>product1</td>\n",
       "      <td>2021-06-01</td>\n",
       "      <td>morning</td>\n",
       "      <td>56.23</td>\n",
       "    </tr>\n",
       "    <tr>\n",
       "      <th>9</th>\n",
       "      <td>Coolblue</td>\n",
       "      <td>wasmachine</td>\n",
       "      <td>product1</td>\n",
       "      <td>2021-06-01</td>\n",
       "      <td>morning</td>\n",
       "      <td>37.87</td>\n",
       "    </tr>\n",
       "  </tbody>\n",
       "</table>\n",
       "</div>"
      ],
      "text/plain": [
       "    website             item   product       date     time  price\n",
       "0  Coolblue           laptop  product1 2021-06-01  morning  29.44\n",
       "1  Coolblue  steelstofzuiger  product1 2021-06-01  morning  16.93\n",
       "2  Coolblue       vaatwasser  product1 2021-06-01  morning  29.43\n",
       "3  Coolblue          printer  product1 2021-06-01  morning  35.84\n",
       "4  Coolblue         loopband  product1 2021-06-01  morning  37.06\n",
       "5  Coolblue         tondeuse  product1 2021-06-01  morning  35.86\n",
       "6  Coolblue         koelkast  product1 2021-06-01  morning  45.41\n",
       "7  Coolblue       grasmaaier  product1 2021-06-01  morning  33.09\n",
       "8  Coolblue        magnetron  product1 2021-06-01  morning  56.23\n",
       "9  Coolblue       wasmachine  product1 2021-06-01  morning  37.87"
      ]
     },
     "execution_count": 9,
     "metadata": {},
     "output_type": "execute_result"
    }
   ],
   "source": [
    "products_table.head(10)"
   ]
  },
  {
   "cell_type": "code",
   "execution_count": 11,
   "id": "dc417970-d54d-4c3f-816e-8e84e2fd33a0",
   "metadata": {},
   "outputs": [],
   "source": [
    "products_table.to_excel('dutch_product_prices.xlsx', index=False)"
   ]
  },
  {
   "cell_type": "code",
   "execution_count": null,
   "id": "19b0e2ca-55e2-499f-a4f9-c2d943efe97d",
   "metadata": {},
   "outputs": [],
   "source": []
  }
 ],
 "metadata": {
  "kernelspec": {
   "display_name": "Python 3",
   "language": "python",
   "name": "python3"
  },
  "language_info": {
   "codemirror_mode": {
    "name": "ipython",
    "version": 3
   },
   "file_extension": ".py",
   "mimetype": "text/x-python",
   "name": "python",
   "nbconvert_exporter": "python",
   "pygments_lexer": "ipython3",
   "version": "3.8.8"
  }
 },
 "nbformat": 4,
 "nbformat_minor": 5
}
