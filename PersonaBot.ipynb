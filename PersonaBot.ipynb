{
 "metadata": {
  "language_info": {
   "codemirror_mode": {
    "name": "ipython",
    "version": 3
   },
   "file_extension": ".py",
   "mimetype": "text/x-python",
   "name": "python",
   "nbconvert_exporter": "python",
   "pygments_lexer": "ipython3",
   "version": "3.7.6-final"
  },
  "orig_nbformat": 2,
  "kernelspec": {
   "name": "python3",
   "display_name": "Python 3",
   "language": "python"
  }
 },
 "nbformat": 4,
 "nbformat_minor": 2,
 "cells": [
  {
   "source": [
    "## Training bot"
   ],
   "cell_type": "markdown",
   "metadata": {}
  },
  {
   "cell_type": "code",
   "execution_count": 1,
   "metadata": {},
   "outputs": [],
   "source": [
    "import pandas as pd\n",
    "websites = pd.read_excel('websites_groups.xlsx')"
   ]
  },
  {
   "cell_type": "code",
   "execution_count": 2,
   "metadata": {},
   "outputs": [
    {
     "output_type": "execute_result",
     "data": {
      "text/plain": [
       "array(['Black', 'Christian', 'Disabilities', 'Elderly', 'Female >64',\n",
       "       'Female 18-24', 'Female 25-34', 'Female 35-64',\n",
       "       'Female, <35, healthy', 'Female, <35, mother',\n",
       "       'Female, Christian, >35', 'Female, LGBTQ+',\n",
       "       'General Dutch Consumer', 'Hindu youth', 'Immigrant', 'Islamic',\n",
       "       'Jewish', 'Male >64', 'Male 18-24', 'Male 25-34', 'Male 35-64',\n",
       "       'Male, LGBTQ+', 'Marokko', 'Muslim'], dtype=object)"
      ]
     },
     "metadata": {},
     "execution_count": 2
    }
   ],
   "source": [
    "websites['Category'].unique()"
   ]
  },
  {
   "cell_type": "code",
   "execution_count": 3,
   "metadata": {},
   "outputs": [],
   "source": [
    "group = 'Muslim'\n",
    "proxies_list = websites[websites['Category'] == group]['Website'].to_list()"
   ]
  },
  {
   "cell_type": "code",
   "execution_count": 4,
   "metadata": {},
   "outputs": [
    {
     "output_type": "stream",
     "name": "stderr",
     "text": [
      "/Users/pedrohserrano/opt/anaconda3/lib/python3.7/site-packages/ipykernel_launcher.py:5: DeprecationWarning: use options instead of chrome_options\n",
      "  \"\"\"\n",
      "https://www.google.nl/\n",
      "Learning... 'https://www.greenlanemasjid.org/about/vision-mission/'\n",
      "Learning... 'https://www.halaltrip.com/'\n",
      "/Users/pedrohserrano/opt/anaconda3/lib/python3.7/site-packages/ipykernel_launcher.py:18: DeprecationWarning: use driver.switch_to.window instead\n",
      "Learning... 'https://www.islamwise.org/new-muslim-support/'\n",
      "Learning... 'https://www.muslima.com/'\n",
      "Windows open: 5\n"
     ]
    }
   ],
   "source": [
    "from selenium import webdriver\n",
    "from selenium.webdriver.chrome.options import Options\n",
    "chrome_options = Options()\n",
    "chrome_options.add_argument(\"--window-size=1620x1620\")\n",
    "driver = webdriver.Chrome(chrome_options=chrome_options, executable_path='./chromedriver')\n",
    "\n",
    "##------\n",
    "url = 'https://www.google.nl/'\n",
    "driver.get(url)\n",
    "driver.implicitly_wait(4)\n",
    "print(driver.current_url)\n",
    "##------\n",
    "for idx, proxy in enumerate(proxies_list):\n",
    "    url = \"'https://www.\"+str(proxy)+\"'\"\n",
    "    print(\"Learning...\", url)\n",
    "    driver.execute_script(\"window.open(\"+url+\")\")\n",
    "    driver.implicitly_wait(3)\n",
    "    driver.switch_to_window(driver.window_handles[idx+1])\n",
    "\n",
    "windows_open  = len(driver.window_handles)\n",
    "print(\"Windows open:\", windows_open)"
   ]
  },
  {
   "cell_type": "code",
   "execution_count": 5,
   "metadata": {},
   "outputs": [],
   "source": [
    "# buttons\n",
    "#driver.back() \n",
    "#driver.forward()\n",
    "#driver.refresh()\n",
    "#driver.switch_to.new_window('tab')\n",
    "#driver.switch_to.new_window('window')\n",
    "#driver.close()\n",
    "#driver.switch_to.window(original_window)"
   ]
  },
  {
   "cell_type": "code",
   "execution_count": 6,
   "metadata": {},
   "outputs": [],
   "source": [
    "from datetime import datetime\n",
    "sttime = datetime.now().strftime('%Y%m%d_%Hh%M_')"
   ]
  },
  {
   "cell_type": "code",
   "execution_count": 7,
   "metadata": {},
   "outputs": [
    {
     "output_type": "stream",
     "name": "stdout",
     "text": [
      "Saving... https://www.buienradar.nl/\n",
      "/Users/pedrohserrano/opt/anaconda3/lib/python3.7/site-packages/ipykernel_launcher.py:5: DeprecationWarning: use driver.switch_to.window instead\n",
      "  \"\"\"\n"
     ]
    }
   ],
   "source": [
    "url = \"https://www.buienradar.nl/\"\n",
    "print(\"Saving...\", url)\n",
    "driver.execute_script('window.open(\"'+url+'\",\"window 100\")')\n",
    "driver.implicitly_wait(3)\n",
    "driver.switch_to_window(driver.window_handles[windows_open])\n"
   ]
  },
  {
   "cell_type": "code",
   "execution_count": 8,
   "metadata": {},
   "outputs": [
    {
     "output_type": "stream",
     "name": "stdout",
     "text": [
      "Buienradar.nl - Buienradar.nl - Weer - Actuele neerslag, weerbericht, weersverwachting, sneeuwradar en satellietbeelden CDwindow-83614296B8DDFAA494F2CF7280323FE4\n"
     ]
    }
   ],
   "source": [
    "driver.save_screenshot(\"screenshots/\"+str(sttime)+str(group)+\"_buien.png\")\n",
    "print(driver.title, driver.current_window_handle)"
   ]
  },
  {
   "cell_type": "code",
   "execution_count": 9,
   "metadata": {},
   "outputs": [
    {
     "output_type": "stream",
     "name": "stdout",
     "text": [
      "Saving... https://www.msn.com/nl-nl\n",
      "/Users/pedrohserrano/opt/anaconda3/lib/python3.7/site-packages/ipykernel_launcher.py:5: DeprecationWarning: use driver.switch_to.window instead\n",
      "  \"\"\"\n"
     ]
    }
   ],
   "source": [
    "url = \"https://www.msn.com/nl-nl\"\n",
    "print(\"Saving...\", url)\n",
    "driver.execute_script('window.open(\"'+url+'\",\"window 101\")')\n",
    "driver.implicitly_wait(3)\n",
    "driver.switch_to_window(driver.window_handles[windows_open+1])\n"
   ]
  },
  {
   "cell_type": "code",
   "execution_count": 10,
   "metadata": {},
   "outputs": [
    {
     "output_type": "stream",
     "name": "stdout",
     "text": [
      "Hotmail, Outlook inloggen | Nieuws, Weer, Sport | MSN Nederland CDwindow-F2AC9DC59762A3A0CD4FC089E1DB7A2F\n"
     ]
    }
   ],
   "source": [
    "driver.save_screenshot(\"screenshots/\"+str(sttime)+str(group)+\"_msn.png\")\n",
    "print(driver.title, driver.current_window_handle)\n",
    "#we have to reload after cookies acceptance"
   ]
  },
  {
   "cell_type": "code",
   "execution_count": 11,
   "metadata": {},
   "outputs": [
    {
     "output_type": "stream",
     "name": "stdout",
     "text": [
      "Saving... https://www.bbc.com/news\n",
      "/Users/pedrohserrano/opt/anaconda3/lib/python3.7/site-packages/ipykernel_launcher.py:5: DeprecationWarning: use driver.switch_to.window instead\n",
      "  \"\"\"\n"
     ]
    }
   ],
   "source": [
    "url = \"https://www.bbc.com/news\"\n",
    "print(\"Saving...\", url)\n",
    "driver.execute_script('window.open(\"'+url+'\",\"window 102\")')\n",
    "driver.implicitly_wait(3)\n",
    "driver.switch_to_window(driver.window_handles[windows_open+2])"
   ]
  },
  {
   "cell_type": "code",
   "execution_count": 12,
   "metadata": {},
   "outputs": [
    {
     "output_type": "stream",
     "name": "stdout",
     "text": [
      "Home - BBC News CDwindow-A6DAA9541B94450AB154EF5533D8A8C5\n"
     ]
    }
   ],
   "source": [
    "driver.save_screenshot(\"screenshots/\"+str(sttime)+str(group)+\"_bbc.png\")\n",
    "print(driver.title, driver.current_window_handle)"
   ]
  },
  {
   "cell_type": "code",
   "execution_count": 13,
   "metadata": {},
   "outputs": [
    {
     "output_type": "stream",
     "name": "stdout",
     "text": [
      "Saving... https://www.weerplaza.nl/\n",
      "/Users/pedrohserrano/opt/anaconda3/lib/python3.7/site-packages/ipykernel_launcher.py:5: DeprecationWarning: use driver.switch_to.window instead\n",
      "  \"\"\"\n"
     ]
    }
   ],
   "source": [
    "url = \"https://www.weerplaza.nl/\"\n",
    "print(\"Saving...\", url)\n",
    "driver.execute_script('window.open(\"'+url+'\",\"window 103\")')\n",
    "driver.implicitly_wait(3)\n",
    "driver.switch_to_window(driver.window_handles[windows_open+3])"
   ]
  },
  {
   "cell_type": "code",
   "execution_count": 14,
   "metadata": {},
   "outputs": [
    {
     "output_type": "stream",
     "name": "stdout",
     "text": [
      "Home | Weerplaza.nl - het weer online, regenradar, buien radar, weersverwachting en weerbericht CDwindow-5C237643AAAA6A660EBC704F68FA6F02\n"
     ]
    }
   ],
   "source": [
    "driver.save_screenshot(\"screenshots/\"+str(sttime)+str(group)+\"_weerplaza.png\")\n",
    "print(driver.title, driver.current_window_handle)"
   ]
  },
  {
   "cell_type": "code",
   "execution_count": 15,
   "metadata": {},
   "outputs": [
    {
     "output_type": "stream",
     "name": "stdout",
     "text": [
      "Saving... https://www.nu.nl/\n",
      "/Users/pedrohserrano/opt/anaconda3/lib/python3.7/site-packages/ipykernel_launcher.py:5: DeprecationWarning: use driver.switch_to.window instead\n",
      "  \"\"\"\n"
     ]
    }
   ],
   "source": [
    "url = \"https://www.nu.nl/\"\n",
    "print(\"Saving...\", url)\n",
    "driver.execute_script('window.open(\"'+url+'\",\"window 104\")')\n",
    "driver.implicitly_wait(3)\n",
    "driver.switch_to_window(driver.window_handles[windows_open+4])"
   ]
  },
  {
   "cell_type": "code",
   "execution_count": 16,
   "metadata": {},
   "outputs": [
    {
     "output_type": "stream",
     "name": "stdout",
     "text": [
      "NU - Het laatste nieuws het eerst op NU.nl CDwindow-516E50F688C670C5C42DBF847AD4C3B4\n"
     ]
    }
   ],
   "source": [
    "driver.save_screenshot(\"screenshots/\"+str(sttime)+str(group)+\"_nunl.png\")\n",
    "print(driver.title, driver.current_window_handle)"
   ]
  },
  {
   "cell_type": "code",
   "execution_count": 17,
   "metadata": {},
   "outputs": [
    {
     "output_type": "stream",
     "name": "stdout",
     "text": [
      "Saving... https://google.nl/search?q=fiets\n",
      "/Users/pedrohserrano/opt/anaconda3/lib/python3.7/site-packages/ipykernel_launcher.py:5: DeprecationWarning: use driver.switch_to.window instead\n",
      "  \"\"\"\n"
     ]
    }
   ],
   "source": [
    "url = \"https://google.nl/search?q=fiets\"\n",
    "print(\"Saving...\", url)\n",
    "driver.execute_script('window.open(\"'+url+'\",\"window 105\")')\n",
    "driver.implicitly_wait(3)\n",
    "driver.switch_to_window(driver.window_handles[windows_open+5])"
   ]
  },
  {
   "cell_type": "code",
   "execution_count": 18,
   "metadata": {},
   "outputs": [
    {
     "output_type": "stream",
     "name": "stdout",
     "text": [
      "fiets - Google Search CDwindow-0713402651BA736FC36F88E490278631\n"
     ]
    }
   ],
   "source": [
    "driver.save_screenshot(\"screenshots/\"+str(sttime)+str(group)+\"_google_fiets.png\")\n",
    "print(driver.title, driver.current_window_handle)"
   ]
  },
  {
   "cell_type": "code",
   "execution_count": 19,
   "metadata": {},
   "outputs": [
    {
     "output_type": "stream",
     "name": "stdout",
     "text": [
      "Saving... https://google.nl/search?q=nieuws\n",
      "/Users/pedrohserrano/opt/anaconda3/lib/python3.7/site-packages/ipykernel_launcher.py:5: DeprecationWarning: use driver.switch_to.window instead\n",
      "  \"\"\"\n"
     ]
    }
   ],
   "source": [
    "url = \"https://google.nl/search?q=nieuws\"\n",
    "print(\"Saving...\", url)\n",
    "driver.execute_script('window.open(\"'+url+'\",\"window 106\")')\n",
    "driver.implicitly_wait(3)\n",
    "driver.switch_to_window(driver.window_handles[windows_open+6])"
   ]
  },
  {
   "cell_type": "code",
   "execution_count": 20,
   "metadata": {},
   "outputs": [
    {
     "output_type": "stream",
     "name": "stdout",
     "text": [
      "nieuws - Google Search CDwindow-24EB2382F74CCB29E4BE7C662ECD796A\n"
     ]
    }
   ],
   "source": [
    "driver.save_screenshot(\"screenshots/\"+str(sttime)+str(group)+\"_google_nieuws.png\")\n",
    "print(driver.title, driver.current_window_handle)"
   ]
  },
  {
   "cell_type": "code",
   "execution_count": 21,
   "metadata": {},
   "outputs": [
    {
     "output_type": "stream",
     "name": "stdout",
     "text": [
      "Saving... https://google.nl/search?q=kleding+online+kopen\n",
      "/Users/pedrohserrano/opt/anaconda3/lib/python3.7/site-packages/ipykernel_launcher.py:5: DeprecationWarning: use driver.switch_to.window instead\n",
      "  \"\"\"\n"
     ]
    }
   ],
   "source": [
    "url = \"https://google.nl/search?q=kleding+online+kopen\"\n",
    "print(\"Saving...\", url)\n",
    "driver.execute_script('window.open(\"'+url+'\",\"window 107\")')\n",
    "driver.implicitly_wait(3)\n",
    "driver.switch_to_window(driver.window_handles[windows_open+7])"
   ]
  },
  {
   "cell_type": "code",
   "execution_count": 22,
   "metadata": {},
   "outputs": [
    {
     "output_type": "stream",
     "name": "stdout",
     "text": [
      "kleding online kopen - Google Search CDwindow-F6BC948161EBF9F8384861F05A4E1E0D\n"
     ]
    }
   ],
   "source": [
    "driver.save_screenshot(\"screenshots/\"+str(sttime)+str(group)+\"_google_kleding.png\")\n",
    "print(driver.title, driver.current_window_handle)"
   ]
  },
  {
   "cell_type": "code",
   "execution_count": null,
   "metadata": {},
   "outputs": [],
   "source": []
  },
  {
   "cell_type": "code",
   "execution_count": null,
   "metadata": {},
   "outputs": [],
   "source": []
  }
 ]
}