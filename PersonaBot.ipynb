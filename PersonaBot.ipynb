{
 "cells": [
  {
   "cell_type": "markdown",
   "metadata": {},
   "source": [
    "## Training bot"
   ]
  },
  {
   "cell_type": "code",
   "execution_count": 1,
   "metadata": {},
   "outputs": [],
   "source": [
    "import pandas as pd\n",
    "websites = pd.read_excel('websites_groups.xlsx')"
   ]
  },
  {
   "cell_type": "code",
   "execution_count": 2,
   "metadata": {},
   "outputs": [
    {
     "data": {
      "text/plain": [
       "array(['Black', 'Christian', 'Disabilities', 'Elderly', 'Female >64',\n",
       "       'Female 18-24', 'Female 25-34', 'Female 35-64',\n",
       "       'Female, <35, healthy', 'Female, <35, mother',\n",
       "       'Female, Christian, >35', 'Female, LGBTQ+',\n",
       "       'General Dutch Consumer', 'Hindu youth', 'Immigrant', 'Islamic',\n",
       "       'Jewish', 'Male >64', 'Male 18-24', 'Male 25-34', 'Male 35-64',\n",
       "       'Male, LGBTQ+', 'Marokko', 'Muslim'], dtype=object)"
      ]
     },
     "execution_count": 2,
     "metadata": {},
     "output_type": "execute_result"
    }
   ],
   "source": [
    "websites['Category'].unique()"
   ]
  },
  {
   "cell_type": "code",
   "execution_count": 6,
   "metadata": {},
   "outputs": [],
   "source": [
    "#websites.head(20)"
   ]
  },
  {
   "cell_type": "code",
   "execution_count": 9,
   "metadata": {},
   "outputs": [],
   "source": [
    "group = 'Christian'\n",
    "proxies_list = websites[websites['Category'] == group]['Website'].to_list()"
   ]
  },
  {
   "cell_type": "code",
   "execution_count": 10,
   "metadata": {},
   "outputs": [],
   "source": [
    "#proxies_list"
   ]
  },
  {
   "cell_type": "code",
   "execution_count": 11,
   "metadata": {},
   "outputs": [
    {
     "name": "stderr",
     "output_type": "stream",
     "text": [
      "/Users/pedrohserrano/opt/anaconda3/lib/python3.7/site-packages/ipykernel_launcher.py:5: DeprecationWarning: use options instead of chrome_options\n",
      "  \"\"\"\n"
     ]
    },
    {
     "name": "stdout",
     "output_type": "stream",
     "text": [
      "https://www.google.nl/\n",
      "Learning... 'https://www.celebrationchurch.nl/'\n",
      "Learning... 'https://www.jw.nl'\n"
     ]
    },
    {
     "name": "stderr",
     "output_type": "stream",
     "text": [
      "/Users/pedrohserrano/opt/anaconda3/lib/python3.7/site-packages/ipykernel_launcher.py:18: DeprecationWarning: use driver.switch_to.window instead\n"
     ]
    },
    {
     "name": "stdout",
     "output_type": "stream",
     "text": [
      "Learning... 'https://www.kerkdienstgemist.nl/'\n",
      "Windows open: 4\n"
     ]
    }
   ],
   "source": [
    "from selenium import webdriver\n",
    "from selenium.webdriver.chrome.options import Options\n",
    "chrome_options = Options()\n",
    "chrome_options.add_argument(\"--window-size=1620x1620\")\n",
    "driver = webdriver.Chrome(chrome_options=chrome_options, executable_path='./chromedriver')\n",
    "\n",
    "##------\n",
    "url = 'https://www.google.nl/'\n",
    "driver.get(url)\n",
    "driver.implicitly_wait(4)\n",
    "print(driver.current_url)\n",
    "##------\n",
    "for idx, proxy in enumerate(proxies_list):\n",
    "    url = \"'https://www.\"+str(proxy)+\"'\"\n",
    "    print(\"Learning...\", url)\n",
    "    driver.execute_script(\"window.open(\"+url+\")\")\n",
    "    driver.implicitly_wait(3)\n",
    "    driver.switch_to_window(driver.window_handles[idx+1])\n",
    "\n",
    "windows_open  = len(driver.window_handles)\n",
    "print(\"Windows open:\", windows_open)"
   ]
  },
  {
   "cell_type": "code",
   "execution_count": 5,
   "metadata": {},
   "outputs": [],
   "source": [
    "# buttons\n",
    "#driver.back() \n",
    "#driver.forward()\n",
    "#driver.refresh()\n",
    "#driver.switch_to.new_window('tab')\n",
    "#driver.switch_to.new_window('window')\n",
    "#driver.close()\n",
    "#driver.switch_to.window(original_window)"
   ]
  },
  {
   "cell_type": "code",
   "execution_count": 12,
   "metadata": {},
   "outputs": [],
   "source": [
    "from datetime import datetime\n",
    "sttime = datetime.now().strftime('%Y%m%d_%Hh%M_')"
   ]
  },
  {
   "cell_type": "code",
   "execution_count": 13,
   "metadata": {},
   "outputs": [
    {
     "name": "stdout",
     "output_type": "stream",
     "text": [
      "Saving... https://www.buienradar.nl/\n"
     ]
    },
    {
     "name": "stderr",
     "output_type": "stream",
     "text": [
      "/Users/pedrohserrano/opt/anaconda3/lib/python3.7/site-packages/ipykernel_launcher.py:5: DeprecationWarning: use driver.switch_to.window instead\n",
      "  \"\"\"\n"
     ]
    }
   ],
   "source": [
    "url = \"https://www.buienradar.nl/\"\n",
    "print(\"Saving...\", url)\n",
    "driver.execute_script('window.open(\"'+url+'\",\"window 100\")')\n",
    "driver.implicitly_wait(3)\n",
    "driver.switch_to_window(driver.window_handles[windows_open])\n"
   ]
  },
  {
   "cell_type": "code",
   "execution_count": 14,
   "metadata": {},
   "outputs": [
    {
     "name": "stdout",
     "output_type": "stream",
     "text": [
      "Buienradar.nl - Buienradar.nl - Weer - Actuele neerslag, weerbericht, weersverwachting, sneeuwradar en satellietbeelden CDwindow-F90CD70BA31AFEF846D73453E0B0D8C5\n"
     ]
    }
   ],
   "source": [
    "driver.save_screenshot(\"screenshots/\"+str(sttime)+str(group)+\"_buien.png\")\n",
    "print(driver.title, driver.current_window_handle)"
   ]
  },
  {
   "cell_type": "code",
   "execution_count": 15,
   "metadata": {},
   "outputs": [
    {
     "name": "stdout",
     "output_type": "stream",
     "text": [
      "Saving... https://www.msn.com/nl-nl\n"
     ]
    },
    {
     "name": "stderr",
     "output_type": "stream",
     "text": [
      "/Users/pedrohserrano/opt/anaconda3/lib/python3.7/site-packages/ipykernel_launcher.py:5: DeprecationWarning: use driver.switch_to.window instead\n",
      "  \"\"\"\n"
     ]
    }
   ],
   "source": [
    "url = \"https://www.msn.com/nl-nl\"\n",
    "print(\"Saving...\", url)\n",
    "driver.execute_script('window.open(\"'+url+'\",\"window 101\")')\n",
    "driver.implicitly_wait(3)\n",
    "driver.switch_to_window(driver.window_handles[windows_open+1])\n"
   ]
  },
  {
   "cell_type": "code",
   "execution_count": 16,
   "metadata": {},
   "outputs": [
    {
     "name": "stdout",
     "output_type": "stream",
     "text": [
      "Hotmail, Outlook inloggen | Nieuws, Weer, Sport | MSN Nederland CDwindow-5431F10CD5FA49B424FE87E87C921CE2\n"
     ]
    }
   ],
   "source": [
    "driver.save_screenshot(\"screenshots/\"+str(sttime)+str(group)+\"_msn.png\")\n",
    "print(driver.title, driver.current_window_handle)\n",
    "#we have to reload after cookies acceptance"
   ]
  },
  {
   "cell_type": "code",
   "execution_count": 17,
   "metadata": {},
   "outputs": [
    {
     "name": "stdout",
     "output_type": "stream",
     "text": [
      "Saving... https://www.bbc.com/news\n"
     ]
    },
    {
     "name": "stderr",
     "output_type": "stream",
     "text": [
      "/Users/pedrohserrano/opt/anaconda3/lib/python3.7/site-packages/ipykernel_launcher.py:5: DeprecationWarning: use driver.switch_to.window instead\n",
      "  \"\"\"\n"
     ]
    }
   ],
   "source": [
    "url = \"https://www.bbc.com/news\"\n",
    "print(\"Saving...\", url)\n",
    "driver.execute_script('window.open(\"'+url+'\",\"window 102\")')\n",
    "driver.implicitly_wait(3)\n",
    "driver.switch_to_window(driver.window_handles[windows_open+2])"
   ]
  },
  {
   "cell_type": "code",
   "execution_count": 18,
   "metadata": {},
   "outputs": [
    {
     "name": "stdout",
     "output_type": "stream",
     "text": [
      "Home - BBC News CDwindow-96ABE90BCCAB904376B0223969024B6B\n"
     ]
    }
   ],
   "source": [
    "driver.save_screenshot(\"screenshots/\"+str(sttime)+str(group)+\"_bbc.png\")\n",
    "print(driver.title, driver.current_window_handle)"
   ]
  },
  {
   "cell_type": "code",
   "execution_count": 13,
   "metadata": {},
   "outputs": [
    {
     "name": "stdout",
     "output_type": "stream",
     "text": [
      "Saving... https://www.weerplaza.nl/\n",
      "/Users/pedrohserrano/opt/anaconda3/lib/python3.7/site-packages/ipykernel_launcher.py:5: DeprecationWarning: use driver.switch_to.window instead\n",
      "  \"\"\"\n"
     ]
    }
   ],
   "source": [
    "url = \"https://www.weerplaza.nl/\"\n",
    "print(\"Saving...\", url)\n",
    "driver.execute_script('window.open(\"'+url+'\",\"window 103\")')\n",
    "driver.implicitly_wait(3)\n",
    "driver.switch_to_window(driver.window_handles[windows_open+3])"
   ]
  },
  {
   "cell_type": "code",
   "execution_count": 14,
   "metadata": {},
   "outputs": [
    {
     "name": "stdout",
     "output_type": "stream",
     "text": [
      "Home | Weerplaza.nl - het weer online, regenradar, buien radar, weersverwachting en weerbericht CDwindow-5C237643AAAA6A660EBC704F68FA6F02\n"
     ]
    }
   ],
   "source": [
    "driver.save_screenshot(\"screenshots/\"+str(sttime)+str(group)+\"_weerplaza.png\")\n",
    "print(driver.title, driver.current_window_handle)"
   ]
  },
  {
   "cell_type": "code",
   "execution_count": 15,
   "metadata": {},
   "outputs": [
    {
     "name": "stdout",
     "output_type": "stream",
     "text": [
      "Saving... https://www.nu.nl/\n",
      "/Users/pedrohserrano/opt/anaconda3/lib/python3.7/site-packages/ipykernel_launcher.py:5: DeprecationWarning: use driver.switch_to.window instead\n",
      "  \"\"\"\n"
     ]
    }
   ],
   "source": [
    "url = \"https://www.nu.nl/\"\n",
    "print(\"Saving...\", url)\n",
    "driver.execute_script('window.open(\"'+url+'\",\"window 104\")')\n",
    "driver.implicitly_wait(3)\n",
    "driver.switch_to_window(driver.window_handles[windows_open+4])"
   ]
  },
  {
   "cell_type": "code",
   "execution_count": 16,
   "metadata": {},
   "outputs": [
    {
     "name": "stdout",
     "output_type": "stream",
     "text": [
      "NU - Het laatste nieuws het eerst op NU.nl CDwindow-516E50F688C670C5C42DBF847AD4C3B4\n"
     ]
    }
   ],
   "source": [
    "driver.save_screenshot(\"screenshots/\"+str(sttime)+str(group)+\"_nunl.png\")\n",
    "print(driver.title, driver.current_window_handle)"
   ]
  },
  {
   "cell_type": "code",
   "execution_count": 17,
   "metadata": {},
   "outputs": [
    {
     "name": "stdout",
     "output_type": "stream",
     "text": [
      "Saving... https://google.nl/search?q=fiets\n",
      "/Users/pedrohserrano/opt/anaconda3/lib/python3.7/site-packages/ipykernel_launcher.py:5: DeprecationWarning: use driver.switch_to.window instead\n",
      "  \"\"\"\n"
     ]
    }
   ],
   "source": [
    "url = \"https://google.nl/search?q=fiets\"\n",
    "print(\"Saving...\", url)\n",
    "driver.execute_script('window.open(\"'+url+'\",\"window 105\")')\n",
    "driver.implicitly_wait(3)\n",
    "driver.switch_to_window(driver.window_handles[windows_open+5])"
   ]
  },
  {
   "cell_type": "code",
   "execution_count": 18,
   "metadata": {},
   "outputs": [
    {
     "name": "stdout",
     "output_type": "stream",
     "text": [
      "fiets - Google Search CDwindow-0713402651BA736FC36F88E490278631\n"
     ]
    }
   ],
   "source": [
    "driver.save_screenshot(\"screenshots/\"+str(sttime)+str(group)+\"_google_fiets.png\")\n",
    "print(driver.title, driver.current_window_handle)"
   ]
  },
  {
   "cell_type": "code",
   "execution_count": 19,
   "metadata": {},
   "outputs": [
    {
     "name": "stdout",
     "output_type": "stream",
     "text": [
      "Saving... https://google.nl/search?q=nieuws\n",
      "/Users/pedrohserrano/opt/anaconda3/lib/python3.7/site-packages/ipykernel_launcher.py:5: DeprecationWarning: use driver.switch_to.window instead\n",
      "  \"\"\"\n"
     ]
    }
   ],
   "source": [
    "url = \"https://google.nl/search?q=nieuws\"\n",
    "print(\"Saving...\", url)\n",
    "driver.execute_script('window.open(\"'+url+'\",\"window 106\")')\n",
    "driver.implicitly_wait(3)\n",
    "driver.switch_to_window(driver.window_handles[windows_open+6])"
   ]
  },
  {
   "cell_type": "code",
   "execution_count": 20,
   "metadata": {},
   "outputs": [
    {
     "name": "stdout",
     "output_type": "stream",
     "text": [
      "nieuws - Google Search CDwindow-24EB2382F74CCB29E4BE7C662ECD796A\n"
     ]
    }
   ],
   "source": [
    "driver.save_screenshot(\"screenshots/\"+str(sttime)+str(group)+\"_google_nieuws.png\")\n",
    "print(driver.title, driver.current_window_handle)"
   ]
  },
  {
   "cell_type": "code",
   "execution_count": 21,
   "metadata": {},
   "outputs": [
    {
     "name": "stdout",
     "output_type": "stream",
     "text": [
      "Saving... https://google.nl/search?q=kleding+online+kopen\n",
      "/Users/pedrohserrano/opt/anaconda3/lib/python3.7/site-packages/ipykernel_launcher.py:5: DeprecationWarning: use driver.switch_to.window instead\n",
      "  \"\"\"\n"
     ]
    }
   ],
   "source": [
    "url = \"https://google.nl/search?q=kleding+online+kopen\"\n",
    "print(\"Saving...\", url)\n",
    "driver.execute_script('window.open(\"'+url+'\",\"window 107\")')\n",
    "driver.implicitly_wait(3)\n",
    "driver.switch_to_window(driver.window_handles[windows_open+7])"
   ]
  },
  {
   "cell_type": "code",
   "execution_count": 22,
   "metadata": {},
   "outputs": [
    {
     "name": "stdout",
     "output_type": "stream",
     "text": [
      "kleding online kopen - Google Search CDwindow-F6BC948161EBF9F8384861F05A4E1E0D\n"
     ]
    }
   ],
   "source": [
    "driver.save_screenshot(\"screenshots/\"+str(sttime)+str(group)+\"_google_kleding.png\")\n",
    "print(driver.title, driver.current_window_handle)"
   ]
  },
  {
   "cell_type": "code",
   "execution_count": null,
   "metadata": {},
   "outputs": [],
   "source": []
  },
  {
   "cell_type": "code",
   "execution_count": null,
   "metadata": {},
   "outputs": [],
   "source": []
  }
 ],
 "metadata": {
  "kernelspec": {
   "display_name": "Python 3",
   "language": "python",
   "name": "python3"
  },
  "language_info": {
   "codemirror_mode": {
    "name": "ipython",
    "version": 3
   },
   "file_extension": ".py",
   "mimetype": "text/x-python",
   "name": "python",
   "nbconvert_exporter": "python",
   "pygments_lexer": "ipython3",
   "version": "3.7.6"
  }
 },
 "nbformat": 4,
 "nbformat_minor": 4
}
